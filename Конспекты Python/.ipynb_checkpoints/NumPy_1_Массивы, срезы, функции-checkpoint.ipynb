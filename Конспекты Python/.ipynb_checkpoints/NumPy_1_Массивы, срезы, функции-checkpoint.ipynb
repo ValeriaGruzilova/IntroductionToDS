{
 "cells": [
  {
   "cell_type": "markdown",
   "id": "8de3334f",
   "metadata": {},
   "source": [
    "# Пакет NumPy\n",
    "## Массивы с фиксированным типом данных"
   ]
  },
  {
   "cell_type": "code",
   "execution_count": 2,
   "id": "3a1621d7",
   "metadata": {},
   "outputs": [],
   "source": [
    "import numpy as np"
   ]
  },
  {
   "cell_type": "markdown",
   "id": "53ccdb97",
   "metadata": {},
   "source": [
    "### Создание массива из списка"
   ]
  },
  {
   "cell_type": "code",
   "execution_count": 16,
   "id": "8a3c5b1d",
   "metadata": {},
   "outputs": [
    {
     "data": {
      "text/plain": [
       "array([1, 4, 2, 5, 3])"
      ]
     },
     "execution_count": 16,
     "metadata": {},
     "output_type": "execute_result"
    }
   ],
   "source": [
    "np.array([1, 4, 2, 5, 3])"
   ]
  },
  {
   "cell_type": "markdown",
   "id": "996039f9",
   "metadata": {},
   "source": [
    "Если типы элементов не совпадают, NumPy попытается выполнить повышающее приведение типов (в данном случае целочисленные значения приводятся к числам с плавающей точкой)."
   ]
  },
  {
   "cell_type": "code",
   "execution_count": 17,
   "id": "4fc4be3f",
   "metadata": {},
   "outputs": [
    {
     "data": {
      "text/plain": [
       "array([3.14, 4.  , 2.  , 3.  ])"
      ]
     },
     "execution_count": 17,
     "metadata": {},
     "output_type": "execute_result"
    }
   ],
   "source": [
    "np.array([3.14, 4, 2, 3])"
   ]
  },
  {
   "cell_type": "markdown",
   "id": "72a8c1cd",
   "metadata": {},
   "source": [
    "Если же необходимо явным образом задать **тип данных** для итогового массива:"
   ]
  },
  {
   "cell_type": "code",
   "execution_count": 18,
   "id": "9677c08f",
   "metadata": {},
   "outputs": [
    {
     "data": {
      "text/plain": [
       "array([1., 2., 3., 4.], dtype=float32)"
      ]
     },
     "execution_count": 18,
     "metadata": {},
     "output_type": "execute_result"
    }
   ],
   "source": [
    " np.array([1, 2, 3, 4], dtype='float32')"
   ]
  },
  {
   "cell_type": "code",
   "execution_count": 26,
   "id": "999cf91b",
   "metadata": {},
   "outputs": [],
   "source": [
    "# Создаем массив целых чисел длины 10, заполненный нулями\n",
    "np.zeros(10, dtype=int)\n",
    "# Создаем массив размером 3 x 5 значений с плавающей точкой, заполненный единицами\n",
    "np.ones((3, 5), dtype=float)\n",
    "# Создаем массив размером 3 x 5, заполненный значением 3.14\n",
    "np.full((3, 5), 3.14)\n",
    "# Создаем массив размером 3 x 3 равномерно распределенных случайных значений от 0 до 1\n",
    "np.random.random((3, 3));"
   ]
  },
  {
   "cell_type": "markdown",
   "id": "8dc2d3f2",
   "metadata": {},
   "source": [
    "### Атрибуты массивов:\n",
    "- **ndim** (размерность) (одномерный, двумерный и т.д.)\n",
    "- **shape** (размер каждого измерения)\n",
    "- **size** (общий размер массива)\n",
    "- **dtype** (тип данных массива)\n",
    "- **itemsize** (размер (в байтах) каждого элемента массива)\n",
    "- **nbytes** (полный размер массива (в байтах))"
   ]
  },
  {
   "cell_type": "code",
   "execution_count": 32,
   "id": "c71aa83a",
   "metadata": {},
   "outputs": [
    {
     "name": "stdout",
     "output_type": "stream",
     "text": [
      "x ndim:  3\n",
      "x shape: (3, 4, 5)\n",
      "x size:  60\n",
      "dtype: int32\n",
      "itemsize: 4 bytes\n",
      "nbytes: 240 bytes\n"
     ]
    }
   ],
   "source": [
    "x = np.random.randint(10, size=(3, 4, 5))\n",
    "print(\"x ndim: \", x.ndim)\n",
    "print(\"x shape:\", x.shape)\n",
    "print(\"x size: \", x.size)\n",
    "print(\"dtype:\", x.dtype)\n",
    "print(\"itemsize:\", x.itemsize, \"bytes\")\n",
    "print(\"nbytes:\", x.nbytes, \"bytes\")"
   ]
  },
  {
   "cell_type": "markdown",
   "id": "9207648a",
   "metadata": {},
   "source": [
    "### Многомерные срезы\n",
    "\n",
    "Срезы массивов возвращают **представления (views)**, а не копии (copies) данных массива.  \n",
    "Этим срезы массивов библиотеки NumPy отличаются от срезов списков языка Python (в списках срезы являются копиями).  \n",
    "Т.е. при выделении подмассива и изменении в нём элемента этот элемент *поменяется так же и в оригинальном массиве.*"
   ]
  },
  {
   "cell_type": "code",
   "execution_count": 38,
   "id": "f7952960",
   "metadata": {},
   "outputs": [
    {
     "data": {
      "text/plain": [
       "array([[12,  5,  2],\n",
       "       [ 7,  6,  8]])"
      ]
     },
     "execution_count": 38,
     "metadata": {},
     "output_type": "execute_result"
    }
   ],
   "source": [
    "x = np.array([[12, 5, 2, 4],\n",
    "             [ 7, 6, 8, 9],\n",
    "             [ 1, 6, 7, 8]])\n",
    "\n",
    "x[:2, :3] # две строки, три столбца"
   ]
  },
  {
   "cell_type": "code",
   "execution_count": 45,
   "id": "1850f2d5",
   "metadata": {},
   "outputs": [
    {
     "data": {
      "text/plain": [
       "array([[ 8,  7,  6,  1],\n",
       "       [ 9,  8,  6,  7],\n",
       "       [ 4,  2,  5, 12]])"
      ]
     },
     "execution_count": 45,
     "metadata": {},
     "output_type": "execute_result"
    }
   ],
   "source": [
    "x[::-1, ::-1] # перевернутый массив"
   ]
  },
  {
   "cell_type": "code",
   "execution_count": 46,
   "id": "a01fb569",
   "metadata": {},
   "outputs": [
    {
     "data": {
      "text/plain": [
       "array([12,  7,  1])"
      ]
     },
     "execution_count": 46,
     "metadata": {},
     "output_type": "execute_result"
    }
   ],
   "source": [
    "x[:,0] # первый столбец"
   ]
  },
  {
   "cell_type": "markdown",
   "id": "c20e1469",
   "metadata": {},
   "source": [
    "Создание копии массива"
   ]
  },
  {
   "cell_type": "code",
   "execution_count": 49,
   "id": "accfad9f",
   "metadata": {},
   "outputs": [],
   "source": [
    "x_copy = x.copy()\n",
    "x_sub_copy = x[:2, :2].copy()"
   ]
  },
  {
   "cell_type": "markdown",
   "id": "f14a94b5",
   "metadata": {},
   "source": [
    "### Изменение формы массива\n",
    "Размер исходного массива должен соответствовать размеру измененного."
   ]
  },
  {
   "cell_type": "code",
   "execution_count": 50,
   "id": "26e0c33b",
   "metadata": {},
   "outputs": [
    {
     "data": {
      "text/plain": [
       "array([[1, 2, 3],\n",
       "       [4, 5, 6],\n",
       "       [7, 8, 9]])"
      ]
     },
     "execution_count": 50,
     "metadata": {},
     "output_type": "execute_result"
    }
   ],
   "source": [
    "np.arange(1, 10).reshape((3, 3))"
   ]
  },
  {
   "cell_type": "code",
   "execution_count": 54,
   "id": "4c9236c6",
   "metadata": {},
   "outputs": [
    {
     "data": {
      "text/plain": [
       "array([[1, 2, 3]])"
      ]
     },
     "execution_count": 54,
     "metadata": {},
     "output_type": "execute_result"
    }
   ],
   "source": [
    "x = np.array([1, 2, 3])\n",
    "# Преобразование в вектор-строку с помощью reshape\n",
    "x.reshape((1, 3))\n",
    "# Преобразование в вектор-строку посредством newaxis\n",
    "x[np.newaxis, :]"
   ]
  },
  {
   "cell_type": "code",
   "execution_count": 55,
   "id": "d10eb3d2",
   "metadata": {},
   "outputs": [
    {
     "data": {
      "text/plain": [
       "array([[1],\n",
       "       [2],\n",
       "       [3]])"
      ]
     },
     "execution_count": 55,
     "metadata": {},
     "output_type": "execute_result"
    }
   ],
   "source": [
    "# Преобразование в вектор-столбец с помощью reshape\n",
    "x.reshape((3, 1))\n",
    "# Преобразование в вектор-столбец посредством newaxis\n",
    "x[:, np.newaxis]"
   ]
  },
  {
   "cell_type": "markdown",
   "id": "50eace7a",
   "metadata": {},
   "source": [
    "### Слияние массивов  \n",
    "Метод **np.concatenate** принимает на входе кортеж или список массивов в качестве первого аргумента. Можно объединять более двух массивов одновременно. "
   ]
  },
  {
   "cell_type": "code",
   "execution_count": 58,
   "id": "cab05ea0",
   "metadata": {},
   "outputs": [
    {
     "data": {
      "text/plain": [
       "array([ 1,  2,  3,  4,  5,  6, 99, 99, 99])"
      ]
     },
     "execution_count": 58,
     "metadata": {},
     "output_type": "execute_result"
    }
   ],
   "source": [
    "x = np.array([1, 2, 3])\n",
    "y = np.array([4, 5, 6])\n",
    "z = [99, 99, 99]\n",
    "np.concatenate([x, y, z])"
   ]
  },
  {
   "cell_type": "markdown",
   "id": "7fb77029",
   "metadata": {},
   "source": [
    "Для объединения двумерных массивов можно также использовать **np.concatenate**:"
   ]
  },
  {
   "cell_type": "code",
   "execution_count": 59,
   "id": "3b73616f",
   "metadata": {},
   "outputs": [
    {
     "data": {
      "text/plain": [
       "array([[1, 2, 3],\n",
       "       [4, 5, 6],\n",
       "       [1, 2, 3],\n",
       "       [4, 5, 6]])"
      ]
     },
     "execution_count": 59,
     "metadata": {},
     "output_type": "execute_result"
    }
   ],
   "source": [
    "grid = np.array([[1, 2, 3],\n",
    "                [4, 5, 6]])\n",
    "# слияние по первой оси координат\n",
    "np.concatenate([grid, grid])"
   ]
  },
  {
   "cell_type": "code",
   "execution_count": 60,
   "id": "653981ee",
   "metadata": {},
   "outputs": [
    {
     "data": {
      "text/plain": [
       "array([[1, 2, 3, 1, 2, 3],\n",
       "       [4, 5, 6, 4, 5, 6]])"
      ]
     },
     "execution_count": 60,
     "metadata": {},
     "output_type": "execute_result"
    }
   ],
   "source": [
    "# слияние по второй оси координат (с индексом 0)\n",
    "np.concatenate([grid, grid], axis=1)"
   ]
  },
  {
   "cell_type": "markdown",
   "id": "a0855eee",
   "metadata": {},
   "source": [
    "Для работы с массивами с различающимися измерениями удобнее и понятнее использовать функции **np.vstack** (вертикальное объединение) и **np.hstack** (горизонтальное объединение):"
   ]
  },
  {
   "cell_type": "code",
   "execution_count": 61,
   "id": "3d47036a",
   "metadata": {},
   "outputs": [
    {
     "data": {
      "text/plain": [
       "array([[1, 2, 3],\n",
       "       [9, 8, 7],\n",
       "       [6, 5, 4]])"
      ]
     },
     "execution_count": 61,
     "metadata": {},
     "output_type": "execute_result"
    }
   ],
   "source": [
    "x = np.array([1, 2, 3])\n",
    "grid = np.array([[9, 8, 7],\n",
    "                 [6, 5, 4]])\n",
    "# Объединяет массивы по вертикали\n",
    "np.vstack([x, grid])"
   ]
  },
  {
   "cell_type": "code",
   "execution_count": 63,
   "id": "e6df3e71",
   "metadata": {},
   "outputs": [
    {
     "data": {
      "text/plain": [
       "array([[ 9,  8,  7, 10],\n",
       "       [ 6,  5,  4, 10]])"
      ]
     },
     "execution_count": 63,
     "metadata": {},
     "output_type": "execute_result"
    }
   ],
   "source": [
    "# Объединяет массивы по горизонтали\n",
    "y = np.array([[10],\n",
    "              [10]])\n",
    "np.hstack([grid, y])"
   ]
  },
  {
   "cell_type": "markdown",
   "id": "fa850a9c",
   "metadata": {},
   "source": [
    "### Разбиение массивов\n",
    "Противоположностью слияния является разбиение, выполняемое с помощью функций **np.split, np.hsplit и np.vsplit**. Каждой из них необходимо передавать список индексов, задающих точки раздела.   \n",
    "  \n",
    "*N точек раздела означают N + 1 подмассив*"
   ]
  },
  {
   "cell_type": "code",
   "execution_count": 66,
   "id": "d3bc6b71",
   "metadata": {},
   "outputs": [
    {
     "name": "stdout",
     "output_type": "stream",
     "text": [
      "[1 2 3] [99 99] [3 2 1]\n"
     ]
    }
   ],
   "source": [
    "x = [1, 2, 3, 99, 99, 3, 2, 1]\n",
    "x1, x2, x3 = np.split(x, [3, 5])\n",
    "print(x1, x2, x3)"
   ]
  },
  {
   "cell_type": "code",
   "execution_count": 70,
   "id": "5fc7baea",
   "metadata": {},
   "outputs": [
    {
     "name": "stdout",
     "output_type": "stream",
     "text": [
      "[[0 1 2 3]\n",
      " [4 5 6 7]] \n",
      "\n",
      "[[ 8  9 10 11]\n",
      " [12 13 14 15]]\n"
     ]
    }
   ],
   "source": [
    "grid = np.array([[ 0, 1, 2, 3],\n",
    "                 [ 4, 5, 6, 7],\n",
    "                 [ 8, 9, 10, 11],\n",
    "                 [12, 13, 14, 15]])\n",
    "\n",
    "upper, lower = np.vsplit(grid, [2])\n",
    "print(upper, '\\n')\n",
    "print(lower)"
   ]
  },
  {
   "cell_type": "code",
   "execution_count": 71,
   "id": "30e467b5",
   "metadata": {},
   "outputs": [
    {
     "name": "stdout",
     "output_type": "stream",
     "text": [
      "[[ 0  1]\n",
      " [ 4  5]\n",
      " [ 8  9]\n",
      " [12 13]] \n",
      "\n",
      "[[ 2  3]\n",
      " [ 6  7]\n",
      " [10 11]\n",
      " [14 15]]\n"
     ]
    }
   ],
   "source": [
    "left, right = np.hsplit(grid, [2])\n",
    "print(left, '\\n')\n",
    "print(right)"
   ]
  },
  {
   "cell_type": "markdown",
   "id": "d6821f5a",
   "metadata": {},
   "source": [
    "### Универсальные (векторизированные функции)\n",
    "Работают на порядок быстрее, чем циклы, применяющие операцию к каждому элементу массива.  \n",
    "Существуют **унарные** (с одним аргументом) и **бинарные** (с двумя аргументами)."
   ]
  },
  {
   "cell_type": "code",
   "execution_count": 3,
   "id": "e7f2941d",
   "metadata": {},
   "outputs": [
    {
     "name": "stdout",
     "output_type": "stream",
     "text": [
      "x = [0 1 2 3]\n",
      "x + 5 = [5 6 7 8]\n",
      "x - 5 = [-5 -4 -3 -2]\n",
      "x * 2 = [0 2 4 6]\n",
      "x / 2 = [0.  0.5 1.  1.5]\n",
      "x // 2 = [0 0 1 1]\n",
      "-x =  [ 0 -1 -2 -3]\n",
      "x ** 2 =  [0 1 4 9]\n",
      "x % 2 =  [0 1 0 1]\n"
     ]
    }
   ],
   "source": [
    "x = np.arange(4)\n",
    "print(\"x =\", x)\n",
    "print(\"x + 5 =\", x + 5)\n",
    "print(\"x - 5 =\", x - 5)\n",
    "print(\"x * 2 =\", x * 2)\n",
    "print(\"x / 2 =\", x / 2)\n",
    "print(\"x // 2 =\", x // 2)\n",
    "print(\"-x = \", -x)\n",
    "print(\"x ** 2 = \", x ** 2)\n",
    "print(\"x % 2 = \", x % 2)"
   ]
  },
  {
   "cell_type": "markdown",
   "id": "98cd7077",
   "metadata": {},
   "source": [
    "**Абсолютное значение**"
   ]
  },
  {
   "cell_type": "code",
   "execution_count": 15,
   "id": "e124200c",
   "metadata": {},
   "outputs": [
    {
     "name": "stdout",
     "output_type": "stream",
     "text": [
      "950 ns ± 27.6 ns per loop (mean ± std. dev. of 7 runs, 1000000 loops each)\n",
      "6.36 µs ± 287 ns per loop (mean ± std. dev. of 7 runs, 100000 loops each)\n"
     ]
    }
   ],
   "source": [
    "x = np.array([-2, -1, 0, 1, 2])\n",
    "%timeit np.abs(x)   # взять модуль через универсальную функцию быстрее\n",
    "\n",
    "def take_abs(values):\n",
    "    output = np.empty(len(values))\n",
    "    for i in range(len(values)):\n",
    "        output[i] = abs(values[i])\n",
    "    return output\n",
    "\n",
    "%timeit take_abs(x)   # через цикл намного дольше"
   ]
  },
  {
   "cell_type": "code",
   "execution_count": 6,
   "id": "520e59a2",
   "metadata": {},
   "outputs": [
    {
     "data": {
      "text/plain": [
       "array([5., 5., 2., 1.])"
      ]
     },
     "execution_count": 6,
     "metadata": {},
     "output_type": "execute_result"
    }
   ],
   "source": [
    "x = np.array([3 - 4j, 4 - 3j, 2 + 0j, 0 + 1j]) # также модуль комплексных чисел\n",
    "np.abs(x)"
   ]
  },
  {
   "cell_type": "markdown",
   "id": "57c864ad",
   "metadata": {},
   "source": [
    "**Тригонометрические функции**"
   ]
  },
  {
   "cell_type": "code",
   "execution_count": 9,
   "id": "c07e2966",
   "metadata": {},
   "outputs": [
    {
     "name": "stdout",
     "output_type": "stream",
     "text": [
      "theta =  [0.         1.57079633 3.14159265]\n",
      "sin(theta) =  [0.0000000e+00 1.0000000e+00 1.2246468e-16]\n",
      "cos(theta) =  [ 1.000000e+00  6.123234e-17 -1.000000e+00]\n",
      "tan(theta) =  [ 0.00000000e+00  1.63312394e+16 -1.22464680e-16]\n"
     ]
    }
   ],
   "source": [
    "theta = np.linspace(0, np.pi, 3)   # тригонометрические функции\n",
    "print(\"theta = \", theta)\n",
    "print(\"sin(theta) = \", np.sin(theta))\n",
    "print(\"cos(theta) = \", np.cos(theta))\n",
    "print(\"tan(theta) = \", np.tan(theta))"
   ]
  },
  {
   "cell_type": "markdown",
   "id": "d8a5744f",
   "metadata": {},
   "source": [
    "**Показательные функции и логарифмы**"
   ]
  },
  {
   "cell_type": "code",
   "execution_count": 16,
   "id": "94a61cb4",
   "metadata": {},
   "outputs": [
    {
     "name": "stdout",
     "output_type": "stream",
     "text": [
      "x = [1, 2, 3]\n",
      "e^x = [ 2.71828183  7.3890561  20.08553692]\n",
      "2^x = [2. 4. 8.]\n",
      "3^x = [ 3  9 27]\n"
     ]
    }
   ],
   "source": [
    "x = [1, 2, 3]\n",
    "print(\"x =\", x)\n",
    "print(\"e^x =\", np.exp(x))\n",
    "print(\"2^x =\", np.exp2(x))\n",
    "print(\"3^x =\", np.power(3, x))"
   ]
  },
  {
   "cell_type": "code",
   "execution_count": 17,
   "id": "bc26a6ff",
   "metadata": {},
   "outputs": [
    {
     "name": "stdout",
     "output_type": "stream",
     "text": [
      "x = [1, 2, 4, 10]\n",
      "ln(x) = [0.         0.69314718 1.38629436 2.30258509]\n",
      "log2(x) = [0.         1.         2.         3.32192809]\n",
      "log10(x) = [0.         0.30103    0.60205999 1.        ]\n"
     ]
    }
   ],
   "source": [
    "x = [1, 2, 4, 10]\n",
    "print(\"x =\", x)\n",
    "print(\"ln(x) =\", np.log(x))\n",
    "print(\"log2(x) =\", np.log2(x))\n",
    "print(\"log10(x) =\", np.log10(x))"
   ]
  },
  {
   "cell_type": "code",
   "execution_count": 18,
   "id": "4feb4031",
   "metadata": {},
   "outputs": [
    {
     "name": "stdout",
     "output_type": "stream",
     "text": [
      "exp(x) - 1 = [0.         0.0010005  0.01005017 0.10517092]\n",
      "log(1 + x) = [0.         0.0009995  0.00995033 0.09531018]\n"
     ]
    }
   ],
   "source": [
    "x = [0, 0.001, 0.01, 0.1]  # при малых значениях эти функции работают точнее\n",
    "print(\"exp(x) - 1 =\", np.expm1(x))\n",
    "print(\"log(1 + x) =\", np.log1p(x))"
   ]
  },
  {
   "cell_type": "markdown",
   "id": "7742ffd4",
   "metadata": {},
   "source": [
    "**Специализированные универсальные функции**  \n",
    "подмодуль scipy.special"
   ]
  },
  {
   "cell_type": "code",
   "execution_count": 20,
   "id": "0a3089bb",
   "metadata": {},
   "outputs": [],
   "source": [
    "from scipy import special"
   ]
  },
  {
   "cell_type": "code",
   "execution_count": 21,
   "id": "03372a87",
   "metadata": {},
   "outputs": [
    {
     "name": "stdout",
     "output_type": "stream",
     "text": [
      "gamma(x) = [1.0000e+00 2.4000e+01 3.6288e+05]\n",
      "ln|gamma(x)| = [ 0.          3.17805383 12.80182748]\n",
      "beta(x, 2) = [0.5        0.03333333 0.00909091]\n"
     ]
    }
   ],
   "source": [
    "# Гамма-функции (обобщенные факториалы) и тому подобные функции\n",
    "x = [1, 5, 10]\n",
    "print(\"gamma(x) =\", special.gamma(x))\n",
    "print(\"ln|gamma(x)| =\", special.gammaln(x))\n",
    "print(\"beta(x, 2) =\", special.beta(x, 2))"
   ]
  },
  {
   "cell_type": "code",
   "execution_count": 23,
   "id": "cbb913bf",
   "metadata": {},
   "outputs": [
    {
     "name": "stdout",
     "output_type": "stream",
     "text": [
      "erf(x) = [0.         0.32862676 0.67780119 0.84270079]\n"
     ]
    }
   ],
   "source": [
    "# Функция ошибок (интеграл от Гауссовой функции)\n",
    "x = np.array([0, 0.3, 0.7, 1.0])\n",
    "print(\"erf(x) =\", special.erf(x))"
   ]
  },
  {
   "cell_type": "markdown",
   "id": "620701e8",
   "metadata": {},
   "source": [
    "**Указание массива для вывода результата**"
   ]
  },
  {
   "cell_type": "code",
   "execution_count": 24,
   "id": "6645be39",
   "metadata": {},
   "outputs": [
    {
     "name": "stdout",
     "output_type": "stream",
     "text": [
      "[ 0. 10. 20. 30. 40.]\n"
     ]
    }
   ],
   "source": [
    "x = np.arange(5)\n",
    "y = np.empty(5)\n",
    "np.multiply(x, 10, out=y)\n",
    "print(y)"
   ]
  },
  {
   "cell_type": "markdown",
   "id": "6453871c",
   "metadata": {},
   "source": [
    "### Агрегирование: минимум, максимум и все, что посередине"
   ]
  },
  {
   "cell_type": "markdown",
   "id": "591a084e",
   "metadata": {},
   "source": [
    "Суммирование и умножение значений массива"
   ]
  },
  {
   "cell_type": "code",
   "execution_count": 34,
   "id": "b630a89e",
   "metadata": {},
   "outputs": [
    {
     "data": {
      "text/plain": [
       "54.763069184868385"
      ]
     },
     "execution_count": 34,
     "metadata": {},
     "output_type": "execute_result"
    }
   ],
   "source": [
    "L = np.random.random(100)\n",
    "np.sum(L)"
   ]
  },
  {
   "cell_type": "code",
   "execution_count": 43,
   "id": "b705de86",
   "metadata": {},
   "outputs": [
    {
     "data": {
      "text/plain": [
       "1.1613848574741958e-38"
      ]
     },
     "execution_count": 43,
     "metadata": {},
     "output_type": "execute_result"
    }
   ],
   "source": [
    "np.prod(L)"
   ]
  },
  {
   "cell_type": "markdown",
   "id": "c0c2bda6",
   "metadata": {},
   "source": [
    "Минимум и максимум, их индексы, среднее и медиана, стандартное отклонение и дисперсия"
   ]
  },
  {
   "cell_type": "code",
   "execution_count": 45,
   "id": "f74da66a",
   "metadata": {},
   "outputs": [
    {
     "name": "stdout",
     "output_type": "stream",
     "text": [
      "0.0019974572771433996 0.9875080475934341\n",
      "92 34\n",
      "0.5476306918486838 0.594968985615272\n",
      "0.2715848916927365 0.0737583533957554\n"
     ]
    }
   ],
   "source": [
    "print(np.min(L), np.max(L))\n",
    "# или print(L.min(), L.max()) такая запись применима ко всем универсальным функциям\n",
    "print(np.argmin(L), np.argmax(L))\n",
    "print(np.mean(L), np.median(L))\n",
    "print(np.std(L), np.var(L))"
   ]
  },
  {
   "cell_type": "markdown",
   "id": "7244e6f1",
   "metadata": {},
   "source": [
    "**Многомерные сводные показатели**"
   ]
  },
  {
   "cell_type": "code",
   "execution_count": 36,
   "id": "a76d78bb",
   "metadata": {},
   "outputs": [
    {
     "name": "stdout",
     "output_type": "stream",
     "text": [
      "[[0.8941412  0.64578039 0.3180769  0.37349763]\n",
      " [0.40158153 0.330569   0.46221498 0.63173847]\n",
      " [0.45116376 0.92767548 0.53932312 0.90049176]]\n"
     ]
    },
    {
     "data": {
      "text/plain": [
       "6.876254220886187"
      ]
     },
     "execution_count": 36,
     "metadata": {},
     "output_type": "execute_result"
    }
   ],
   "source": [
    "M = np.random.random((3, 4))\n",
    "print(M)\n",
    "M.sum()"
   ]
  },
  {
   "cell_type": "code",
   "execution_count": 37,
   "id": "867cd23f",
   "metadata": {},
   "outputs": [
    {
     "data": {
      "text/plain": [
       "array([0.40158153, 0.330569  , 0.3180769 , 0.37349763])"
      ]
     },
     "execution_count": 37,
     "metadata": {},
     "output_type": "execute_result"
    }
   ],
   "source": [
    "M.min(axis=0) # минимальное значение каждого из столбцов"
   ]
  },
  {
   "cell_type": "code",
   "execution_count": 38,
   "id": "e551483a",
   "metadata": {},
   "outputs": [
    {
     "data": {
      "text/plain": [
       "array([0.8941412 , 0.63173847, 0.92767548])"
      ]
     },
     "execution_count": 38,
     "metadata": {},
     "output_type": "execute_result"
    }
   ],
   "source": [
    "M.max(axis=1) # максимальное значение каждой из строк"
   ]
  }
 ],
 "metadata": {
  "kernelspec": {
   "display_name": "Python 3 (ipykernel)",
   "language": "python",
   "name": "python3"
  },
  "language_info": {
   "codemirror_mode": {
    "name": "ipython",
    "version": 3
   },
   "file_extension": ".py",
   "mimetype": "text/x-python",
   "name": "python",
   "nbconvert_exporter": "python",
   "pygments_lexer": "ipython3",
   "version": "3.9.2"
  }
 },
 "nbformat": 4,
 "nbformat_minor": 5
}
