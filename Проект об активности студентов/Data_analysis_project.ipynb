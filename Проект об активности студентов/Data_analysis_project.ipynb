{
 "cells": [
  {
   "cell_type": "markdown",
   "id": "5da11d9b",
   "metadata": {},
   "source": [
    "# Проект по анализу данных об активности студентов\n",
    "Практическим проектом будет анализ активности студентов онлайн курса \"Введение в анализ данных в R\" со Stepik.org.  \n",
    "  \n",
    "Описание данных:  \n",
    "\n",
    "**events_train.csv** - данные о действиях, которые совершают студенты со стэпами.\n",
    "\n",
    "- step_id - id стэпа\n",
    "- user_id - анонимизированный id юзера\n",
    "- timestamp - время наступления события в формате unix date\n",
    "- action - событие, возможные значения: \n",
    "- discovered - пользователь перешел на стэп\n",
    "- viewed - просмотр шага,\n",
    "- started_attempt - начало попытки решить шаг, ранее нужно было явно нажать на кнопку - начать решение, перед тем как приступить к решению практического шага\n",
    "- passed - удачное решение практического шага\n",
    "  \n",
    "**submissions_train.csv** - данные о времени и статусах сабмитов к практическим заданиям\n",
    "\n",
    "- step_id - id стэпа\n",
    "- timestamp - время отправки решения в формате unix date\n",
    "- submission_status - статус решения\n",
    "- user_id - анонимизированный id юзера\n",
    "\n",
    "**Цель:** изучить, почему до конца курса доходит малое количество людей, и предложить варианты решения этой проблемы."
   ]
  },
  {
   "cell_type": "code",
   "execution_count": null,
   "id": "a851dd74",
   "metadata": {},
   "outputs": [],
   "source": []
  }
 ],
 "metadata": {
  "kernelspec": {
   "display_name": "Python 3 (ipykernel)",
   "language": "python",
   "name": "python3"
  },
  "language_info": {
   "codemirror_mode": {
    "name": "ipython",
    "version": 3
   },
   "file_extension": ".py",
   "mimetype": "text/x-python",
   "name": "python",
   "nbconvert_exporter": "python",
   "pygments_lexer": "ipython3",
   "version": "3.9.2"
  }
 },
 "nbformat": 4,
 "nbformat_minor": 5
}
