{
 "cells": [
  {
   "cell_type": "markdown",
   "id": "955723d2",
   "metadata": {},
   "source": [
    "# Пакет NumPy. Часть 2\n",
    "## Массивы с фиксированным типом данных"
   ]
  },
  {
   "cell_type": "code",
   "execution_count": 6,
   "id": "e3aec7ba",
   "metadata": {},
   "outputs": [],
   "source": [
    "import numpy as np"
   ]
  },
  {
   "cell_type": "markdown",
   "id": "52f8515b",
   "metadata": {},
   "source": [
    "### Операции над массивами. Транслирование\n",
    "Еще один способ применения операций векторизации — использовать имеющиеся в библиотеке\n",
    "NumPy возможности **транслирования (broadcasting)**.  \n",
    "Транслирование представляет собой набор правил по применению **бинарных** универсальных функций (сложение, вычитание, умножение и т. д.) к массивам различного размера."
   ]
  },
  {
   "cell_type": "code",
   "execution_count": 5,
   "id": "d4fa70c4",
   "metadata": {},
   "outputs": [
    {
     "data": {
      "text/plain": [
       "array([5, 6, 7])"
      ]
     },
     "execution_count": 5,
     "metadata": {},
     "output_type": "execute_result"
    }
   ],
   "source": [
    "a = np.array([0, 1, 2])\n",
    "b = np.array([5, 5, 5])\n",
    "# Сложение массивов одинаковой размерности\n",
    "a + b"
   ]
  },
  {
   "cell_type": "code",
   "execution_count": 4,
   "id": "9569e495",
   "metadata": {},
   "outputs": [
    {
     "data": {
      "text/plain": [
       "array([3, 4, 5])"
      ]
     },
     "execution_count": 4,
     "metadata": {},
     "output_type": "execute_result"
    }
   ],
   "source": [
    "# Прибавление скалярного значения (нульмерного массива)\n",
    "a + 3"
   ]
  },
  {
   "cell_type": "markdown",
   "id": "ef706fd7",
   "metadata": {},
   "source": [
    "**Транслирование на массивы большей размерности**  \n",
    "Здесь одномерный массив a растягивается (транслируется) на второе измерение, чтобы соответствовать форме массива M."
   ]
  },
  {
   "cell_type": "code",
   "execution_count": 6,
   "id": "efbbdd66",
   "metadata": {},
   "outputs": [
    {
     "data": {
      "text/plain": [
       "array([[1., 1., 1.],\n",
       "       [1., 1., 1.],\n",
       "       [1., 1., 1.]])"
      ]
     },
     "execution_count": 6,
     "metadata": {},
     "output_type": "execute_result"
    }
   ],
   "source": [
    "M = np.ones((3, 3))\n",
    "M"
   ]
  },
  {
   "cell_type": "code",
   "execution_count": 7,
   "id": "a54cf13d",
   "metadata": {},
   "outputs": [
    {
     "data": {
      "text/plain": [
       "array([[1., 2., 3.],\n",
       "       [1., 2., 3.],\n",
       "       [1., 2., 3.]])"
      ]
     },
     "execution_count": 7,
     "metadata": {},
     "output_type": "execute_result"
    }
   ],
   "source": [
    "M + a"
   ]
  },
  {
   "cell_type": "markdown",
   "id": "8b394286",
   "metadata": {},
   "source": [
    "**Транслирование обоих массивов**  \n",
    "Аналогично тому, как мы раньше растягивали (транслировали) один массив, чтобы\n",
    "он соответствовал форме другого, здесь мы растягиваем оба массива a и b, чтобы\n",
    "привести их к общей форме."
   ]
  },
  {
   "cell_type": "code",
   "execution_count": 9,
   "id": "0f594fea",
   "metadata": {},
   "outputs": [
    {
     "name": "stdout",
     "output_type": "stream",
     "text": [
      "[0 1 2]\n",
      "[[0]\n",
      " [1]\n",
      " [2]]\n"
     ]
    },
    {
     "data": {
      "text/plain": [
       "array([[0, 1, 2],\n",
       "       [1, 2, 3],\n",
       "       [2, 3, 4]])"
      ]
     },
     "execution_count": 9,
     "metadata": {},
     "output_type": "execute_result"
    }
   ],
   "source": [
    "a = np.arange(3)\n",
    "b = np.arange(3)[:, np.newaxis]\n",
    "print(a)\n",
    "print(b)\n",
    "a + b"
   ]
  },
  {
   "cell_type": "markdown",
   "id": "b00de104",
   "metadata": {},
   "source": [
    "### Правила транслирования\n",
    "1. Если размерность двух массивов отличается, форма массива с меньшей размерностью дополняется единицами с ведущей (левой) стороны.\n",
    "2. Если форма двух массивов не совпадает в каком-то измерении, массив с формой, равной 1 в данном измерении, растягивается вплоть до соответствия форме другого массива.\n",
    "3. Если в каком-либо измерении размеры массивов различаются и ни один не равен 1, генерируется ошибка."
   ]
  },
  {
   "cell_type": "markdown",
   "id": "fe5b8f31",
   "metadata": {},
   "source": [
    "### Сравнения, маски и булева логика"
   ]
  },
  {
   "cell_type": "markdown",
   "id": "0886d904",
   "metadata": {},
   "source": [
    "**Операторы сравнения как универсальные функции**"
   ]
  },
  {
   "cell_type": "code",
   "execution_count": 10,
   "id": "126b1683",
   "metadata": {},
   "outputs": [
    {
     "data": {
      "text/plain": [
       "array([False, False,  True,  True,  True])"
      ]
     },
     "execution_count": 10,
     "metadata": {},
     "output_type": "execute_result"
    }
   ],
   "source": [
    "x = np.array([1, 2, 3, 4, 5])\n",
    "x >= 3"
   ]
  },
  {
   "cell_type": "code",
   "execution_count": 11,
   "id": "0d0af61f",
   "metadata": {},
   "outputs": [
    {
     "data": {
      "text/plain": [
       "array([False,  True, False, False, False])"
      ]
     },
     "execution_count": 11,
     "metadata": {},
     "output_type": "execute_result"
    }
   ],
   "source": [
    "(2 * x) == (x ** 2)"
   ]
  },
  {
   "cell_type": "code",
   "execution_count": 15,
   "id": "6de0d800",
   "metadata": {},
   "outputs": [
    {
     "data": {
      "text/plain": [
       "array([[7.70500863, 3.9678357 , 3.76224305, 9.46314727],\n",
       "       [2.17052022, 1.15627312, 2.38275176, 6.11990502],\n",
       "       [8.73860517, 6.06284708, 2.98402703, 2.98386139]])"
      ]
     },
     "execution_count": 15,
     "metadata": {},
     "output_type": "execute_result"
    }
   ],
   "source": [
    "x = np.random.random((3, 4)) * 10\n",
    "x"
   ]
  },
  {
   "cell_type": "code",
   "execution_count": 16,
   "id": "18c1b83b",
   "metadata": {},
   "outputs": [
    {
     "data": {
      "text/plain": [
       "array([[False,  True,  True, False],\n",
       "       [ True,  True,  True, False],\n",
       "       [False, False,  True,  True]])"
      ]
     },
     "execution_count": 16,
     "metadata": {},
     "output_type": "execute_result"
    }
   ],
   "source": [
    "x < 6"
   ]
  },
  {
   "cell_type": "markdown",
   "id": "c811bccc",
   "metadata": {},
   "source": [
    "### Работа с булевыми массивами\n",
    "**Подсчет количества элементов**"
   ]
  },
  {
   "cell_type": "code",
   "execution_count": 17,
   "id": "af669998",
   "metadata": {},
   "outputs": [
    {
     "data": {
      "text/plain": [
       "7"
      ]
     },
     "execution_count": 17,
     "metadata": {},
     "output_type": "execute_result"
    }
   ],
   "source": [
    "# Сколько значений массива меньше 6?\n",
    "np.count_nonzero(x < 6)"
   ]
  },
  {
   "cell_type": "code",
   "execution_count": 18,
   "id": "ba1d39fa",
   "metadata": {},
   "outputs": [
    {
     "data": {
      "text/plain": [
       "7"
      ]
     },
     "execution_count": 18,
     "metadata": {},
     "output_type": "execute_result"
    }
   ],
   "source": [
    "np.sum(x < 6)"
   ]
  },
  {
   "cell_type": "code",
   "execution_count": 19,
   "id": "0e3987c8",
   "metadata": {},
   "outputs": [
    {
     "data": {
      "text/plain": [
       "array([2, 3, 2])"
      ]
     },
     "execution_count": 19,
     "metadata": {},
     "output_type": "execute_result"
    }
   ],
   "source": [
    "# Сколько значений меньше 6 содержится в каждой строке?\n",
    "np.sum(x < 6, axis=1)"
   ]
  },
  {
   "cell_type": "code",
   "execution_count": 20,
   "id": "e963f430",
   "metadata": {},
   "outputs": [
    {
     "data": {
      "text/plain": [
       "True"
      ]
     },
     "execution_count": 20,
     "metadata": {},
     "output_type": "execute_result"
    }
   ],
   "source": [
    "# Имеются ли в массиве какие-либо значения, превышающие 8?\n",
    "np.any(x > 8)"
   ]
  },
  {
   "cell_type": "code",
   "execution_count": 21,
   "id": "1fad05f1",
   "metadata": {},
   "outputs": [
    {
     "data": {
      "text/plain": [
       "True"
      ]
     },
     "execution_count": 21,
     "metadata": {},
     "output_type": "execute_result"
    }
   ],
   "source": [
    "# Все ли значения меньше 10?\n",
    "np.all(x < 10)"
   ]
  },
  {
   "cell_type": "code",
   "execution_count": 22,
   "id": "6e1148b6",
   "metadata": {},
   "outputs": [
    {
     "data": {
      "text/plain": [
       "6"
      ]
     },
     "execution_count": 22,
     "metadata": {},
     "output_type": "execute_result"
    }
   ],
   "source": [
    "# Количество значений между 2 и 5\n",
    "np.sum((x > 2) & (x < 5))"
   ]
  },
  {
   "cell_type": "markdown",
   "id": "d06a00a8",
   "metadata": {},
   "source": [
    "**Булевы массивы как маски**  \n",
    "Наложение маски или маскирование"
   ]
  },
  {
   "cell_type": "code",
   "execution_count": 29,
   "id": "1e81267c",
   "metadata": {},
   "outputs": [
    {
     "data": {
      "text/plain": [
       "array([7.70500863, 3.9678357 , 3.76224305, 9.46314727, 2.17052022,\n",
       "       1.15627312, 2.38275176, 8.73860517, 2.98402703, 2.98386139])"
      ]
     },
     "execution_count": 29,
     "metadata": {},
     "output_type": "execute_result"
    }
   ],
   "source": [
    "x[(x < 5) | (x > 7)]"
   ]
  },
  {
   "cell_type": "code",
   "execution_count": 30,
   "id": "3c7bdb5e",
   "metadata": {},
   "outputs": [
    {
     "data": {
      "text/plain": [
       "array([3.9678357 , 3.76224305, 2.17052022, 2.38275176, 2.98402703,\n",
       "       2.98386139])"
      ]
     },
     "execution_count": 30,
     "metadata": {},
     "output_type": "execute_result"
    }
   ],
   "source": [
    "x[(x >= 2) & (x <= 4)]"
   ]
  },
  {
   "cell_type": "markdown",
   "id": "8b3fad10",
   "metadata": {},
   "source": [
    "### «Прихотливая» индексация\n",
    "«Прихотливая» индексация похожа на уже рассмотренную нами простую индексацию, но вместо скалярных значений передаются массивы индексов."
   ]
  },
  {
   "cell_type": "code",
   "execution_count": 31,
   "id": "5e202552",
   "metadata": {},
   "outputs": [
    {
     "name": "stdout",
     "output_type": "stream",
     "text": [
      "[51 92 14 71 60 20 82 86 74 74]\n"
     ]
    },
    {
     "data": {
      "text/plain": [
       "array([71, 86, 60])"
      ]
     },
     "execution_count": 31,
     "metadata": {},
     "output_type": "execute_result"
    }
   ],
   "source": [
    "rand = np.random.RandomState(42)\n",
    "x = rand.randint(100, size=10)\n",
    "print(x)\n",
    "ind = [3, 7, 4]\n",
    "x[ind]"
   ]
  },
  {
   "cell_type": "markdown",
   "id": "a758e9f8",
   "metadata": {},
   "source": [
    "В случае «прихотливой» индексации форма результата отражает форму массивов индексов (index arrays), а не форму индексируемого массива."
   ]
  },
  {
   "cell_type": "code",
   "execution_count": 32,
   "id": "fbff267a",
   "metadata": {},
   "outputs": [
    {
     "data": {
      "text/plain": [
       "array([[71, 86],\n",
       "       [60, 20]])"
      ]
     },
     "execution_count": 32,
     "metadata": {},
     "output_type": "execute_result"
    }
   ],
   "source": [
    "ind = np.array([[3, 7],\n",
    "               [4, 5]])\n",
    "x[ind]"
   ]
  },
  {
   "cell_type": "code",
   "execution_count": 33,
   "id": "60e605ba",
   "metadata": {},
   "outputs": [
    {
     "data": {
      "text/plain": [
       "array([[ 0,  1,  2,  3],\n",
       "       [ 4,  5,  6,  7],\n",
       "       [ 8,  9, 10, 11]])"
      ]
     },
     "execution_count": 33,
     "metadata": {},
     "output_type": "execute_result"
    }
   ],
   "source": [
    "x = np.arange(12).reshape((3, 4))\n",
    "x"
   ]
  },
  {
   "cell_type": "code",
   "execution_count": 34,
   "id": "f05047ed",
   "metadata": {},
   "outputs": [
    {
     "data": {
      "text/plain": [
       "array([ 2,  5, 11])"
      ]
     },
     "execution_count": 34,
     "metadata": {},
     "output_type": "execute_result"
    }
   ],
   "source": [
    "row = np.array([0, 1, 2])\n",
    "col = np.array([2, 1, 3])\n",
    "x[row, col]\n",
    "# Первое значение в результате — X[0, 2], второе — X[1, 1], и третье — X[2, 3]."
   ]
  },
  {
   "cell_type": "markdown",
   "id": "09acb301",
   "metadata": {},
   "source": [
    "### Комбинированная индексация\n",
    "Для реализации еще более сложных операций «прихотливую» индексацию можно использовать совместно с другими схемами индексации."
   ]
  },
  {
   "cell_type": "code",
   "execution_count": 35,
   "id": "8680a506",
   "metadata": {},
   "outputs": [
    {
     "data": {
      "text/plain": [
       "array([[ 0,  1,  2,  3],\n",
       "       [ 4,  5,  6,  7],\n",
       "       [ 8,  9, 10, 11]])"
      ]
     },
     "execution_count": 35,
     "metadata": {},
     "output_type": "execute_result"
    }
   ],
   "source": [
    "x"
   ]
  },
  {
   "cell_type": "code",
   "execution_count": 36,
   "id": "c49c342b",
   "metadata": {},
   "outputs": [
    {
     "data": {
      "text/plain": [
       "array([10,  8,  9])"
      ]
     },
     "execution_count": 36,
     "metadata": {},
     "output_type": "execute_result"
    }
   ],
   "source": [
    "x[2, [2, 0, 1]]"
   ]
  },
  {
   "cell_type": "code",
   "execution_count": 37,
   "id": "ab9954b9",
   "metadata": {},
   "outputs": [
    {
     "data": {
      "text/plain": [
       "array([[ 6,  4,  5],\n",
       "       [10,  8,  9]])"
      ]
     },
     "execution_count": 37,
     "metadata": {},
     "output_type": "execute_result"
    }
   ],
   "source": [
    "x[1:, [2, 0, 1]]"
   ]
  },
  {
   "cell_type": "code",
   "execution_count": 38,
   "id": "779cce42",
   "metadata": {},
   "outputs": [
    {
     "data": {
      "text/plain": [
       "array([[ 0,  2],\n",
       "       [ 4,  6],\n",
       "       [ 8, 10]])"
      ]
     },
     "execution_count": 38,
     "metadata": {},
     "output_type": "execute_result"
    }
   ],
   "source": [
    "mask = np.array([1, 0, 1, 0], dtype=bool)\n",
    "x[row[:, np.newaxis], mask]"
   ]
  },
  {
   "cell_type": "markdown",
   "id": "c71ce2a0",
   "metadata": {},
   "source": [
    "### Сортировка массивов"
   ]
  },
  {
   "cell_type": "code",
   "execution_count": 7,
   "id": "d2e676ed",
   "metadata": {},
   "outputs": [
    {
     "data": {
      "text/plain": [
       "array([1, 2, 3, 4, 5])"
      ]
     },
     "execution_count": 7,
     "metadata": {},
     "output_type": "execute_result"
    }
   ],
   "source": [
    "x = np.array([2, 1, 4, 3, 5])\n",
    "np.sort(x)\n",
    "# или x.sort()"
   ]
  },
  {
   "cell_type": "markdown",
   "id": "bc74fa82",
   "metadata": {},
   "source": [
    "Функция argsort возвращает индексы отсортированных элементов."
   ]
  },
  {
   "cell_type": "code",
   "execution_count": 15,
   "id": "c089bbc9",
   "metadata": {},
   "outputs": [
    {
     "data": {
      "text/plain": [
       "array([1, 0, 3, 2, 4], dtype=int64)"
      ]
     },
     "execution_count": 15,
     "metadata": {},
     "output_type": "execute_result"
    }
   ],
   "source": [
    "x = np.array([2, 1, 4, 3, 5])\n",
    "i = np.argsort(x)\n",
    "i"
   ]
  },
  {
   "cell_type": "code",
   "execution_count": 16,
   "id": "aba8fb4f",
   "metadata": {},
   "outputs": [
    {
     "data": {
      "text/plain": [
       "array([1, 2, 3, 4, 5])"
      ]
     },
     "execution_count": 16,
     "metadata": {},
     "output_type": "execute_result"
    }
   ],
   "source": [
    "x[i] # прихотливая индексация -> отсортированный массив"
   ]
  },
  {
   "cell_type": "markdown",
   "id": "ae5281ee",
   "metadata": {},
   "source": [
    "**Сортировка по строкам и столбцам** путем задания аргумента axis"
   ]
  },
  {
   "cell_type": "code",
   "execution_count": 14,
   "id": "8060517c",
   "metadata": {},
   "outputs": [
    {
     "name": "stdout",
     "output_type": "stream",
     "text": [
      "[[6 3 7 4 6 9]\n",
      " [2 6 7 4 3 7]\n",
      " [7 2 5 4 1 7]\n",
      " [5 1 4 0 9 5]] \n",
      "\n",
      "[[2 1 4 0 1 5]\n",
      " [5 2 5 4 3 7]\n",
      " [6 3 7 4 6 7]\n",
      " [7 6 7 4 9 9]] \n",
      "\n",
      "[[3 4 6 6 7 9]\n",
      " [2 3 4 6 7 7]\n",
      " [1 2 4 5 7 7]\n",
      " [0 1 4 5 5 9]]\n"
     ]
    }
   ],
   "source": [
    "rand = np.random.RandomState(42)\n",
    "X = rand.randint(0, 10, (4, 6))\n",
    "print(X, \"\\n\")\n",
    "print(np.sort(X, axis=0), \"\\n\") # Сортируем все столбцы\n",
    "print(np.sort(X, axis=1)) # Сортируем все строки "
   ]
  },
  {
   "cell_type": "markdown",
   "id": "fb5745da",
   "metadata": {},
   "source": [
    "**Частичные сортировки: секционирование**  \n",
    "Иногда нам не требуется сортировать весь массив, а просто нужно найти K наименьших значений в нем. Библиотека NumPy предоставляет для этой цели функцию **np.partition**. Функция np.partition принимает на входе массив и число K.  \n",
    "Результат представляет собой новый массив с K наименьшими значениями слева от точки разбиения и остальные значения справа от нее в произвольном порядке."
   ]
  },
  {
   "cell_type": "code",
   "execution_count": 17,
   "id": "369389b1",
   "metadata": {},
   "outputs": [
    {
     "data": {
      "text/plain": [
       "array([2, 1, 3, 4, 6, 5, 7])"
      ]
     },
     "execution_count": 17,
     "metadata": {},
     "output_type": "execute_result"
    }
   ],
   "source": [
    "x = np.array([7, 2, 3, 1, 6, 5, 4])\n",
    "np.partition(x, 3)"
   ]
  },
  {
   "cell_type": "markdown",
   "id": "c7105bb9",
   "metadata": {},
   "source": [
    "Первые три значения в итоговом массиве — три наименьших значения в нем, а на\n",
    "остальных позициях массива располагаются все прочие значения. Внутри каждой\n",
    "из двух секций элементы располагаются в произвольном порядке."
   ]
  },
  {
   "cell_type": "code",
   "execution_count": 18,
   "id": "af025d7f",
   "metadata": {},
   "outputs": [
    {
     "data": {
      "text/plain": [
       "array([[3, 4, 6, 7, 6, 9],\n",
       "       [2, 3, 4, 7, 6, 7],\n",
       "       [1, 2, 4, 5, 7, 7],\n",
       "       [0, 1, 4, 5, 9, 5]])"
      ]
     },
     "execution_count": 18,
     "metadata": {},
     "output_type": "execute_result"
    }
   ],
   "source": [
    "np.partition(X, 2, axis=1)"
   ]
  },
  {
   "cell_type": "markdown",
   "id": "eba0b261",
   "metadata": {},
   "source": [
    "Результат представляет собой массив, в котором на первых двух позициях в каждой строке находятся наименьшие значения из этой строки, а остальные значения заполняют прочие места."
   ]
  },
  {
   "cell_type": "markdown",
   "id": "a66a211d",
   "metadata": {},
   "source": [
    "Наконец, аналогично функции np.argsort, вычисляющей индексы для сортировки, существует функция **np.argpartition**, вычисляющая индексы для секции."
   ]
  },
  {
   "cell_type": "markdown",
   "id": "7f96864e",
   "metadata": {},
   "source": [
    "### Структурированные массивы"
   ]
  },
  {
   "cell_type": "code",
   "execution_count": 28,
   "id": "45ae0c2a",
   "metadata": {},
   "outputs": [],
   "source": [
    "name_lst = ['Alice', 'Bob', 'Cathy', 'Doug']\n",
    "age_lst = [25, 45, 37, 19]\n",
    "weight_lst = [55.0, 85.5, 68.0, 61.5]"
   ]
  },
  {
   "cell_type": "markdown",
   "id": "773d3cf1",
   "metadata": {},
   "source": [
    "**Создание** с использованием словаря"
   ]
  },
  {
   "cell_type": "code",
   "execution_count": 27,
   "id": "6560bb1f",
   "metadata": {},
   "outputs": [
    {
     "name": "stdout",
     "output_type": "stream",
     "text": [
      "[('name', '<U10'), ('age', '<i4'), ('weight', '<f8')]\n"
     ]
    }
   ],
   "source": [
    "# Используем для структурированного массива составной тип данных\n",
    "data = np.zeros(4, dtype={'names':('name', 'age', 'weight'),\n",
    "                          'formats':('U10', 'i4', 'f8')})\n",
    "print(data.dtype)"
   ]
  },
  {
   "cell_type": "markdown",
   "id": "224a0483",
   "metadata": {},
   "source": [
    "U10 означает «строку в кодировке Unicode максимальной длины 10»,  \n",
    "i4 — «4-байтное (то есть 32-битное) целое число»,  \n",
    "f8 — «8-байтное (то есть 64-битное) число с плавающей точкой». \n",
    "\n",
    "Первый (необязательный) символ — **< или >**,\n",
    "означает «число с прямым порядком байтов» или «число с обратным порядком байтов» соответственно и задает порядок значащих битов.  \n",
    "Следующий символ задает **тип данных**. Последний символ или символы отражают размер объекта в байтах.  \n",
    "\n",
    "'b' Байтовый тип  \n",
    "'i' Знаковое целое число  \n",
    "'u' Беззнаковое целое число  \n",
    "'f' Число с плавающей точкой  \n",
    "'c' Комплексное число с плавающей точкой  \n",
    "'S', 'a' Строка  \n",
    "'U' Строка в кодировке Unicode  \n",
    "'V' Неформатированные данные (тип void)"
   ]
  },
  {
   "cell_type": "markdown",
   "id": "b7a799b0",
   "metadata": {},
   "source": [
    "**Ссылки на значения**"
   ]
  },
  {
   "cell_type": "code",
   "execution_count": 29,
   "id": "c5885ceb",
   "metadata": {},
   "outputs": [
    {
     "name": "stdout",
     "output_type": "stream",
     "text": [
      "[('Alice', 25, 55. ) ('Bob', 45, 85.5) ('Cathy', 37, 68. )\n",
      " ('Doug', 19, 61.5)]\n"
     ]
    }
   ],
   "source": [
    "data['name'] = name_lst\n",
    "data['age'] = age_lst\n",
    "data['weight'] = weight_lst\n",
    "print(data)"
   ]
  },
  {
   "cell_type": "code",
   "execution_count": 30,
   "id": "a76da607",
   "metadata": {},
   "outputs": [
    {
     "data": {
      "text/plain": [
       "array(['Alice', 'Bob', 'Cathy', 'Doug'], dtype='<U10')"
      ]
     },
     "execution_count": 30,
     "metadata": {},
     "output_type": "execute_result"
    }
   ],
   "source": [
    "# Извлечь все имена\n",
    "data['name']"
   ]
  },
  {
   "cell_type": "code",
   "execution_count": 31,
   "id": "f90e46fc",
   "metadata": {},
   "outputs": [
    {
     "data": {
      "text/plain": [
       "('Alice', 25, 55.)"
      ]
     },
     "execution_count": 31,
     "metadata": {},
     "output_type": "execute_result"
    }
   ],
   "source": [
    "# Извлечь первую строку данных\n",
    "data[0]"
   ]
  },
  {
   "cell_type": "code",
   "execution_count": 32,
   "id": "426ac07b",
   "metadata": {},
   "outputs": [
    {
     "data": {
      "text/plain": [
       "'Doug'"
      ]
     },
     "execution_count": 32,
     "metadata": {},
     "output_type": "execute_result"
    }
   ],
   "source": [
    "# Извлечь имя из последней строки\n",
    "data[-1]['name']"
   ]
  },
  {
   "cell_type": "code",
   "execution_count": 33,
   "id": "7d80f3be",
   "metadata": {},
   "outputs": [
    {
     "data": {
      "text/plain": [
       "array(['Alice', 'Doug'], dtype='<U10')"
      ]
     },
     "execution_count": 33,
     "metadata": {},
     "output_type": "execute_result"
    }
   ],
   "source": [
    "# Извлечь имена людей с возрастом менее 30\n",
    "data[data['age'] < 30]['name']"
   ]
  },
  {
   "cell_type": "markdown",
   "id": "6af9fae1",
   "metadata": {},
   "source": [
    "Составные типы данных можно задавать в виде **списка кортежей:**"
   ]
  },
  {
   "cell_type": "code",
   "execution_count": 34,
   "id": "824e1fe6",
   "metadata": {},
   "outputs": [
    {
     "data": {
      "text/plain": [
       "dtype([('name', 'S10'), ('age', '<i4'), ('weight', '<f8')])"
      ]
     },
     "execution_count": 34,
     "metadata": {},
     "output_type": "execute_result"
    }
   ],
   "source": [
    "np.dtype([('name', 'S10'), ('age', 'i4'), ('weight', 'f8')])"
   ]
  },
  {
   "cell_type": "markdown",
   "id": "cfcc3c06",
   "metadata": {},
   "source": [
    "### Массивы записей: структурированные массивы с дополнительными возможностями\n",
    "Библиотека NumPy предоставляет класс **np.recarray**, практически идентичный\n",
    "только что описанным структурированным массивам, но с одной дополнительной\n",
    "возможностью: доступ к полям можно осуществлять как к атрибутам, а не только\n",
    "как к ключам словаря.  \n",
    "Как вы помните, ранее мы обращались к значениям возраста\n",
    "путем написания следующей строки кода:"
   ]
  },
  {
   "cell_type": "code",
   "execution_count": 35,
   "id": "72c110af",
   "metadata": {},
   "outputs": [
    {
     "data": {
      "text/plain": [
       "array([25, 45, 37, 19])"
      ]
     },
     "execution_count": 35,
     "metadata": {},
     "output_type": "execute_result"
    }
   ],
   "source": [
    "data['age']"
   ]
  },
  {
   "cell_type": "markdown",
   "id": "b289a469",
   "metadata": {},
   "source": [
    "Если же представить наши данные как массив записей, то можно обращаться к этим\n",
    "данным с помощью чуть более короткого синтаксиса:"
   ]
  },
  {
   "cell_type": "code",
   "execution_count": 36,
   "id": "84bee257",
   "metadata": {},
   "outputs": [
    {
     "data": {
      "text/plain": [
       "array([25, 45, 37, 19])"
      ]
     },
     "execution_count": 36,
     "metadata": {},
     "output_type": "execute_result"
    }
   ],
   "source": [
    "data_rec = data.view(np.recarray)\n",
    "data_rec.age"
   ]
  },
  {
   "cell_type": "markdown",
   "id": "8025bec8",
   "metadata": {},
   "source": [
    "Недостаток использования -- медлительность."
   ]
  }
 ],
 "metadata": {
  "kernelspec": {
   "display_name": "Python 3 (ipykernel)",
   "language": "python",
   "name": "python3"
  },
  "language_info": {
   "codemirror_mode": {
    "name": "ipython",
    "version": 3
   },
   "file_extension": ".py",
   "mimetype": "text/x-python",
   "name": "python",
   "nbconvert_exporter": "python",
   "pygments_lexer": "ipython3",
   "version": "3.9.2"
  }
 },
 "nbformat": 4,
 "nbformat_minor": 5
}
